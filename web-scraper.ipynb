{
 "cells": [
  {
   "cell_type": "code",
   "execution_count": null,
   "metadata": {},
   "outputs": [],
   "source": [
    "import requests\n",
    "from bs4 import BeautifulSoup"
   ]
  },
  {
   "cell_type": "markdown",
   "metadata": {},
   "source": [
    "Retrieve content from the website"
   ]
  },
  {
   "cell_type": "code",
   "execution_count": 25,
   "metadata": {},
   "outputs": [],
   "source": [
    "response = requests.get(\"https://www.espn.co.uk/nba/standings\")\n",
    "content = response.content\n",
    "soup = BeautifulSoup(content,\"html.parser\")"
   ]
  },
  {
   "cell_type": "markdown",
   "metadata": {},
   "source": [
    "Scrape the data using HTML tags for Eastern and Western conference teams."
   ]
  },
  {
   "cell_type": "code",
   "execution_count": 14,
   "metadata": {},
   "outputs": [],
   "source": [
    "table = soup.find_all(\"div\", attrs={\"class\": \"standings__table\"})\n",
    "east_team_names = table[0].find_all(\"div\", attrs={\"class\": \"team-link\"})\n",
    "west_team_names = table[1].find_all(\"div\", attrs={\"class\": \"team-link\"})\n",
    "east_team_stats_table = table[0].find_all(\"tbody\", attrs={\"class\": \"Table__TBODY\"})[1]\n",
    "west_team_stats_table = table[1].find_all(\"tbody\", attrs={\"class\": \"Table__TBODY\"})[1]\n",
    "east_team_stats = east_team_stats_table.find_all(\"tr\", attrs={\"class\": \"Table__TR\"})\n",
    "west_team_stats = west_team_stats_table.find_all(\"tr\", attrs={\"class\": \"Table__TR\"})"
   ]
  },
  {
   "cell_type": "markdown",
   "metadata": {},
   "source": [
    "Create a dictionary for each team one by one"
   ]
  },
  {
   "cell_type": "code",
   "execution_count": 30,
   "metadata": {},
   "outputs": [],
   "source": [
    "east_teams = []\n",
    "keys_list = [\"TeamName\", \"W\", \"L\", \"Pct\", \"GB\", \"Home\", \"Away\", \"Div\", \"Conf\", \"PPG\", \"OPP PPG\", \"DIFF\", \"Streak\", \"L10\"]\n",
    "for team, stats in zip(east_team_names, east_team_stats):\n",
    "    # get stats\n",
    "    values_list = list(map(lambda x: x.text, stats.find_all(\"td\", attrs={\"class\": \"Table__TD\"})))\n",
    "    # insert team name\n",
    "    values_list.insert(0, team.find(\"span\", attrs={\"class\": \"hide-mobile\"}).text)\n",
    "    # create a dictionary and append to list\n",
    "    zip_iterator = zip(keys_list, values_list)\n",
    "    dataframe = dict(zip_iterator)\n",
    "    east_teams.append(dataframe)"
   ]
  },
  {
   "cell_type": "code",
   "execution_count": 31,
   "metadata": {},
   "outputs": [],
   "source": [
    "west_teams = []\n",
    "for team, stats in zip(west_team_names, west_team_stats):\n",
    "    # get stats\n",
    "    values_list = list(map(lambda x: x.text, stats.find_all(\"td\", attrs={\"class\": \"Table__TD\"})))\n",
    "    # insert team name\n",
    "    values_list.insert(0, team.find(\"span\", attrs={\"class\": \"hide-mobile\"}).text)\n",
    "    # create a dictionary and append to list\n",
    "    zip_iterator = zip(keys_list, values_list)\n",
    "    dataframe = dict(zip_iterator)\n",
    "    west_teams.append(dataframe)"
   ]
  },
  {
   "cell_type": "markdown",
   "metadata": {},
   "source": [
    "Create pandas dataframes for both conferences"
   ]
  },
  {
   "cell_type": "code",
   "execution_count": 32,
   "metadata": {},
   "outputs": [],
   "source": [
    "import pandas\n",
    "east_df = pandas.DataFrame(east_teams)\n",
    "west_df = pandas.DataFrame(west_teams)\n",
    "east_df.index += 1\n",
    "west_df.index += 1\n",
    "# save the result in CSV format\n",
    "east_df.to_csv(\"NBA_Eastern_conference_standings.csv\")\n",
    "west_df.to_csv(\"NBA_Western_conference_standings.csv\")"
   ]
  },
  {
   "cell_type": "code",
   "execution_count": 29,
   "metadata": {},
   "outputs": [
    {
     "name": "stdout",
     "output_type": "stream",
     "text": [
      "               TeamName   W   L   Pct    GB   Home   Away   Div   Conf    PPG  \\\n",
      "1            Miami Heat  38  21  .644     -   19-7  19-14  11-2  24-12  108.9   \n",
      "2         Chicago Bulls  38  21  .644     -   23-8  15-13   7-3  23-13  112.6   \n",
      "3    Philadelphia 76ers  35  23  .603   2.5  16-13  19-10   4-7  20-14  107.5   \n",
      "4   Cleveland Cavaliers  35  23  .603   2.5   18-9  17-14   7-3  20-13  106.7   \n",
      "5       Milwaukee Bucks  36  24  .600   2.5  20-11  16-13   8-3  22-17  113.2   \n",
      "6        Boston Celtics  34  26  .567   4.5  20-11  14-15   7-6  24-15  108.9   \n",
      "7       Toronto Raptors  32  25  .561     5  16-13  16-12   5-5  21-14  108.7   \n",
      "8         Brooklyn Nets  31  28  .525     7  13-15  18-13   7-2  21-13  110.8   \n",
      "9     Charlotte Hornets  29  31  .483   9.5  14-14  15-17   5-7  19-18  113.8   \n",
      "10        Atlanta Hawks  28  30  .483   9.5  17-13  11-17   7-5  17-18  112.2   \n",
      "11   Washington Wizards  27  31  .466  10.5  15-15  12-16   6-6  20-19  107.1   \n",
      "12      New York Knicks  25  34  .424    13  13-17  12-17   4-7  14-22  105.1   \n",
      "13       Indiana Pacers  20  40  .333  18.5  14-17   6-23  2-11   9-29  109.3   \n",
      "14      Detroit Pistons  13  45  .224  24.5   8-20   5-25   3-7   9-23  102.6   \n",
      "15        Orlando Magic  13  47  .217  25.5   5-21   8-26  2-11   8-31  103.3   \n",
      "\n",
      "   OPP PPG   DIFF Streak  L10  \n",
      "1    104.4   +4.5     W1  6-4  \n",
      "2    110.4   +2.2     W5  7-3  \n",
      "3    106.0   +1.5     W1  6-4  \n",
      "4    102.5   +4.2     L2  6-4  \n",
      "5    109.8   +3.4     L1  6-4  \n",
      "6    103.5   +5.4     L1  9-1  \n",
      "7    106.9   +1.8     W1  8-2  \n",
      "8    110.8    0.0     L1  2-8  \n",
      "9    114.7   -0.9     L3  1-9  \n",
      "10   111.8   +0.4     W2  5-5  \n",
      "11   109.8   -2.7     W1  4-6  \n",
      "12   106.6   -1.5     L3  2-8  \n",
      "13   112.0   -2.6     W1  2-8  \n",
      "14   112.6  -10.0     W1  2-8  \n",
      "15   112.0   -8.6     L4  3-7  \n",
      "                  TeamName   W   L   Pct    GB   Home   Away   Div   Conf  \\\n",
      "1             Phoenix Suns  48  10  .828     -   26-5   22-5   6-4   28-7   \n",
      "2    Golden State Warriors  42  17  .712   6.5   26-6  16-11   9-2  25-11   \n",
      "3        Memphis Grizzlies  41  19  .683     8  20-10   21-9   6-4  28-12   \n",
      "4                Utah Jazz  36  22  .621    12  21-10  15-12  11-1  22-12   \n",
      "5         Dallas Mavericks  35  24  .593  13.5  20-11  15-13  11-2  24-14   \n",
      "6           Denver Nuggets  33  25  .569    15  16-10  17-15   4-8  18-17   \n",
      "7   Minnesota Timberwolves  31  28  .525  17.5  17-11  14-17   7-4  20-18   \n",
      "8              LA Clippers  30  31  .492  19.5  18-13  12-18   5-6  17-23   \n",
      "9       Los Angeles Lakers  27  31  .466    21  18-13   9-18   2-8  15-19   \n",
      "10  Portland Trail Blazers  25  34  .424  23.5  16-16   9-18   1-8  11-24   \n",
      "11       San Antonio Spurs  23  36  .390  25.5  11-18  12-18   4-6  14-20   \n",
      "12    New Orleans Pelicans  23  36  .390  25.5  13-17  10-19   4-7  14-20   \n",
      "13        Sacramento Kings  22  38  .367    27  15-17   7-21   5-7  15-22   \n",
      "14   Oklahoma City Thunder  18  40  .310    30   9-19   9-21   3-5  13-24   \n",
      "15         Houston Rockets  15  43  .259    33   8-18   7-25   2-8   7-28   \n",
      "\n",
      "      PPG OPP PPG  DIFF Streak  L10  \n",
      "1   113.7   105.6  +8.1     W7  9-1  \n",
      "2   110.6   103.7  +6.9     L2  6-4  \n",
      "3   113.8   109.0  +4.9     L1  8-2  \n",
      "4   113.7   106.9  +6.8     L1  6-4  \n",
      "5   106.6   103.3  +3.3     W2  7-3  \n",
      "6   109.9   107.8  +2.1     W3  6-4  \n",
      "7   113.2   111.7  +1.5     L1  7-3  \n",
      "8   106.9   107.7  -0.8     W1  5-5  \n",
      "9   110.9   112.4  -1.5     W1  3-7  \n",
      "10  108.2   112.0  -3.8     W4  4-6  \n",
      "11  111.8   111.7  +0.1     W1  5-5  \n",
      "12  106.3   109.5  -3.2     L2  5-5  \n",
      "13  109.9   114.9  -5.0     L2  4-6  \n",
      "14  101.2   107.8  -6.6     L1  4-6  \n",
      "15  108.5   118.1  -9.6     L7  1-9  \n"
     ]
    }
   ],
   "source": [
    "# print the dataframes\n",
    "print(east_df)\n",
    "print(west_df)"
   ]
  },
  {
   "cell_type": "code",
   "execution_count": null,
   "metadata": {},
   "outputs": [],
   "source": []
  }
 ],
 "metadata": {
  "kernelspec": {
   "display_name": "Python 3",
   "language": "python",
   "name": "python3"
  },
  "language_info": {
   "codemirror_mode": {
    "name": "ipython",
    "version": 3
   },
   "file_extension": ".py",
   "mimetype": "text/x-python",
   "name": "python",
   "nbconvert_exporter": "python",
   "pygments_lexer": "ipython3",
   "version": "3.7.0"
  }
 },
 "nbformat": 4,
 "nbformat_minor": 4
}
